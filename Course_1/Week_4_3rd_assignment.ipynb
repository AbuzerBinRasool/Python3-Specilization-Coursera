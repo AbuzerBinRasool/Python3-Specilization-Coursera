{
 "cells": [
  {
   "cell_type": "code",
   "execution_count": null,
   "metadata": {},
   "outputs": [],
   "source": [
    "### Question_1: Which of these is the accumulator variable?\n",
    "\"\"\"\n",
    "byzo = 'hello world!'\n",
    "c = 0\n",
    "for x in byzo:\n",
    "    z = x + \"!\"\n",
    "    print(z)\n",
    "    c = c + 1\n",
    "\"\"\"\n",
    "\n",
    "### Ans: c"
   ]
  },
  {
   "cell_type": "code",
   "execution_count": null,
   "metadata": {},
   "outputs": [],
   "source": [
    "### Question_2: Which of these is the sequence?\n",
    "\n",
    "cawdra = ['candy', 'daisy', 'pear', 'peach', 'gem', 'crown']\n",
    "t = 0\n",
    "for elem in cawdra:\n",
    "    t = t + len(elem)\n",
    "    \n",
    "### Ans: cawdra"
   ]
  },
  {
   "cell_type": "code",
   "execution_count": null,
   "metadata": {},
   "outputs": [],
   "source": [
    "### Question_3: Which of these is the iterator (loop) variable?\n",
    "\n",
    "lst = [5, 10, 3, 8, 94, 2, 4, 9]\n",
    "num = 0\n",
    "for item in lst:\n",
    "    num += item\n",
    "    \n",
    "### Ans: item"
   ]
  },
  {
   "cell_type": "code",
   "execution_count": null,
   "metadata": {},
   "outputs": [],
   "source": [
    "### Question_4: What is the iterator (loop) variable in the following?\n",
    "\n",
    "rest = [\"sleep\", 'dormir', 'dormire', \"slaap\", 'sen', 'yuxu', 'yanam']\n",
    "let = ''\n",
    "for phrase in rest:\n",
    "    let += phrase[0]\n",
    "    \n",
    "### Ans: phrase"
   ]
  },
  {
   "cell_type": "markdown",
   "metadata": {},
   "source": [
    "### Question_5: Currently there is a string called str1. Write code to create a list called chars which should contain the characters from str1. Each character in str1 should be its own element in the list chars."
   ]
  },
  {
   "cell_type": "code",
   "execution_count": 7,
   "metadata": {},
   "outputs": [],
   "source": [
    "str1 = \"I love python\"\n",
    "# HINT: what's the accumulator? That should go here.\n",
    "\n",
    "chars = []\n",
    "for wrd in str1:\n",
    "    chars.append(wrd)\n",
    "# chars = str1.rsplit(\" \")\n",
    "# print(chars)\n",
    "# print(type(chars))"
   ]
  },
  {
   "cell_type": "code",
   "execution_count": null,
   "metadata": {},
   "outputs": [],
   "source": []
  }
 ],
 "metadata": {
  "kernelspec": {
   "display_name": "Python 3",
   "language": "python",
   "name": "python3"
  },
  "language_info": {
   "codemirror_mode": {
    "name": "ipython",
    "version": 3
   },
   "file_extension": ".py",
   "mimetype": "text/x-python",
   "name": "python",
   "nbconvert_exporter": "python",
   "pygments_lexer": "ipython3",
   "version": "3.7.6"
  }
 },
 "nbformat": 4,
 "nbformat_minor": 4
}
